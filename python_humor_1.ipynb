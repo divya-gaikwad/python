{
 "cells": [
  {
   "cell_type": "code",
   "execution_count": null,
   "id": "4d191814-7ad0-454e-b8a1-c54d52b65999",
   "metadata": {},
   "outputs": [
    {
     "name": "stdout",
     "output_type": "stream",
     "text": [
      "\n",
      "NASA called... They said your humor is out of this world! 🚀😂\n"
     ]
    },
    {
     "name": "stdin",
     "output_type": "stream",
     "text": [
      "\n",
      " Is it true(1/0):  1\n"
     ]
    },
    {
     "name": "stdout",
     "output_type": "stream",
     "text": [
      "\n",
      "NASA called... They said your humor is out of this world! 🚀😂\n"
     ]
    },
    {
     "name": "stdin",
     "output_type": "stream",
     "text": [
      "\n",
      " Is it true(1/0):  1\n"
     ]
    },
    {
     "name": "stdout",
     "output_type": "stream",
     "text": [
      "\n",
      "I swear, if kindness was a currency, you'd own the whole world! 💸🌍\n"
     ]
    }
   ],
   "source": [
    "import random\n",
    "\n",
    "# List of funny, kind, and comic jokes\n",
    "jokes = [\n",
    "    \"You're so kind, even Disney princesses take notes from you! 👑✨\",\n",
    "    \"I swear, if kindness was a currency, you'd own the whole world! 💸🌍\",\n",
    "    \"Your kindness level is so high, even Santa asks YOU for help! 🎅😂\",\n",
    "    \"I think even mosquitoes refuse to bite you out of respect! 🦟😂\",\n",
    "    \"Your curls have more volume than my life’s achievements! 😂💁‍♀️\",\n",
    "    \"If I got lost in your curls, I’d need Google Maps to get out! 🗺️🤣\",\n",
    "    \"Your hair is so curly, even telephone wires get jealous! ☎️😂\",\n",
    "    \"Bro, you should come with a ‘Warning: May cause excessive laughter’ sign! 🚧🤣\",\n",
    "    \"If I had a dollar for every time you made me laugh, I'd be richer than Elon Musk! 💵😆\",\n",
    "    \"NASA called... They said your humor is out of this world! 🚀😂\"\n",
    "]\n",
    "\n",
    "# Continuous joke loop\n",
    "while True:\n",
    "    print(\"\\n\" + random.choice(jokes))  # Print a random joke\n",
    "    user_input = input(\"\\n Is it true(1/0): \").strip().lower()  # Ask user\n",
    "    \n",
    "    if user_input not in [\"yes\", \"y\",\"1\"]:  # If not yes, break the loop\n",
    "        print(\"\\nAlright, no more bothering ! Have a great day! 😆👋\")\n",
    "        break\n"
   ]
  },
  {
   "cell_type": "code",
   "execution_count": null,
   "id": "f67a6fa0-ba60-498a-abfe-bc30168c8d35",
   "metadata": {},
   "outputs": [],
   "source": []
  }
 ],
 "metadata": {
  "kernelspec": {
   "display_name": "Python 3 (ipykernel)",
   "language": "python",
   "name": "python3"
  },
  "language_info": {
   "codemirror_mode": {
    "name": "ipython",
    "version": 3
   },
   "file_extension": ".py",
   "mimetype": "text/x-python",
   "name": "python",
   "nbconvert_exporter": "python",
   "pygments_lexer": "ipython3",
   "version": "3.12.3"
  }
 },
 "nbformat": 4,
 "nbformat_minor": 5
}
